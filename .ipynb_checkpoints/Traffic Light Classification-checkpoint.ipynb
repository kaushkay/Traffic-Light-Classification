{
 "cells": [
  {
   "cell_type": "code",
   "execution_count": 12,
   "metadata": {
    "colab": {},
    "colab_type": "code",
    "id": "R3s4HCpgnAMC"
   },
   "outputs": [],
   "source": [
    "import tensorflow as tf\n",
    "import matplotlib.pyplot as plt\n",
    "import numpy as np\n",
    "import math, random\n",
    "import os, sys, time\n",
    "import itertools\n",
    "import cv2\n",
    "import glob\n",
    "# The glob module finds all the pathnames matching a specified pattern according \n",
    "# to the rules used by the Unix shell, although results are returned in arbitrary order. "
   ]
  },
  {
   "cell_type": "code",
   "execution_count": 3,
   "metadata": {
    "colab": {},
    "colab_type": "code",
    "collapsed": true,
    "id": "JHZmLe3xnAM9"
   },
   "outputs": [],
   "source": [
    "# Basic Parameters\n",
    "\n",
    "max_epochs = 25\n",
    "base_image_path =  \"images/\"\n",
    "image_types = [\"red\", \"green\", \"yellow\"]\n",
    "input_image_x = 32\n",
    "input_image_y = 32\n",
    "train_test_split_ratio = 0.9\n",
    "batch_size = 32\n",
    "checkpoint_name = \"model.ckpt\""
   ]
  },
  {
   "cell_type": "code",
   "execution_count": 4,
   "metadata": {
    "colab": {},
    "colab_type": "code",
    "collapsed": true,
    "id": "9JtxWIcFnANB"
   },
   "outputs": [],
   "source": [
    "#Helper layer Funtion:\n",
    "\n",
    "def weight_variable(shape):\n",
    "    initial = tf.truncated_normal(shape, stddev=0.1)\n",
    "    return tf.Variable(initial)\n",
    "\n",
    "def bias_variable(shape):\n",
    "    initial = tf.constant(0.1, shape=shape)\n",
    "    return tf.Variable(initial)\n",
    "\n",
    "def conv2d(x, W, stride):\n",
    "    return tf.nn.conv2d(x, W, strides=[1,stride,stride,1], padding='SAME')\n",
    "\n",
    "def max_pool_2x2(x):\n",
    "    return tf.nn.max_pool(x, ksize=[1,2,2,1], strides=[1,2,2,1], padding='SAME')\n",
    "    "
   ]
  },
  {
   "cell_type": "markdown",
   "metadata": {
    "colab_type": "text",
    "id": "EVe8_PFBnANE"
   },
   "source": [
    "1. Our input neurons will be the shape of the image which is (32 x 32 x 3)\n",
    "2. Because our data will be one-hot encoded, we have as many output neurons as we have classes"
   ]
  },
  {
   "cell_type": "code",
   "execution_count": 5,
   "metadata": {
    "colab": {},
    "colab_type": "code",
    "collapsed": true,
    "id": "kpfYFraInANF"
   },
   "outputs": [],
   "source": [
    "# Model\n",
    "\n",
    "x = tf.placeholder(tf.float32, shape=[None, input_image_x, input_image_y, 3])\n",
    "y_ = tf.placeholder(tf.float32, shape=[None, len(image_types)])"
   ]
  },
  {
   "cell_type": "markdown",
   "metadata": {
    "colab_type": "text",
    "id": "LuTCgRyMnANI"
   },
   "source": [
    "This is where we specify our first convolutional layers."
   ]
  },
  {
   "cell_type": "code",
   "execution_count": 6,
   "metadata": {
    "colab": {
     "base_uri": "https://localhost:8080/",
     "height": 88
    },
    "colab_type": "code",
    "id": "bv2AbaVRnANJ",
    "outputId": "c0dba3aa-97ea-4694-e190-203f4e9cd25e"
   },
   "outputs": [],
   "source": [
    "x_image = x\n",
    "\n",
    "# Our first 3 conv layers, of 16 3X3 filters\n",
    "W_conv1 = weight_variable([3, 3, 3, 16])\n",
    "b_conv1 = bias_variable([16])\n",
    "h_conv1 = tf.nn.relu(conv2d(x_image, W_conv1, 1) + b_conv1)\n",
    "\n",
    "W_conv2 = weight_variable([3, 3, 16, 16])\n",
    "b_conv2 = bias_variable([16])\n",
    "h_conv2 = tf.nn.relu(conv2d(h_conv1, W_conv2, 1) + b_conv2)\n",
    "\n",
    "W_conv3 = weight_variable([3, 3, 16, 16])\n",
    "b_conv3 = bias_variable([16])\n",
    "h_conv3 = tf.nn.relu(conv2d(h_conv2, W_conv3, 1) + b_conv3)\n",
    "\n"
   ]
  },
  {
   "cell_type": "code",
   "execution_count": 7,
   "metadata": {
    "colab": {},
    "colab_type": "code",
    "collapsed": true,
    "id": "lzM6fj4Wp6Dz"
   },
   "outputs": [],
   "source": [
    "# Our Pooling layer\n",
    "h_pool4 = max_pool_2x2(h_conv3)\n",
    "\n",
    "n1, n2, n3, n4 = h_pool4.get_shape().as_list()\n",
    "\n",
    "W_fc1 = weight_variable([n2*n3*n4, 3])\n",
    "b_fc1 = bias_variable([3])\n",
    "\n",
    "# We flatten our pool layer into a fully connected layer\n",
    "\n",
    "h_pool4_flat = tf.reshape(h_pool4, shape=[-1, n2*n3*n4])\n",
    "\n",
    "y = tf.matmul(h_pool4_flat, W_fc1) + b_fc1"
   ]
  },
  {
   "cell_type": "code",
   "execution_count": 8,
   "metadata": {
    "colab": {},
    "colab_type": "code",
    "collapsed": true,
    "id": "wxES91nRnANO"
   },
   "outputs": [],
   "source": [
    "sess = tf.InteractiveSession()    "
   ]
  },
  {
   "cell_type": "markdown",
   "metadata": {
    "colab_type": "text",
    "id": "qvog8dUInANS"
   },
   "source": [
    "<l>*Our loss function is defined as computing softmax, and then cross entropy.*\n",
    "<l>*We also specify our optimizer, which takes a learning rate, and a loss function.*\n",
    "<l>*Finally, we initialize all of our variables which will tell us if our model is valid.*"
   ]
  },
  {
   "cell_type": "code",
   "execution_count": 9,
   "metadata": {
    "colab": {},
    "colab_type": "code",
    "collapsed": true,
    "id": "ds7RQ9WcnANT"
   },
   "outputs": [],
   "source": [
    "# Our loss function and optimizer\n",
    "\n",
    "loss = tf.reduce_mean(tf.nn.softmax_cross_entropy_with_logits_v2(labels=y_, \n",
    "                                                                 logits=y))\n",
    "train_step = tf.train.AdamOptimizer(learning_rate=0.01).minimize(loss)\n",
    "sess.run(tf.global_variables_initializer())"
   ]
  },
  {
   "cell_type": "markdown",
   "metadata": {
    "colab_type": "text",
    "id": "gByY4Mr8nANV"
   },
   "source": [
    "We need to load in our images. We do so using OpenCV's imread function. After loading in each image, we resize it to our input size."
   ]
  },
  {
   "cell_type": "markdown",
   "metadata": {
    "colab_type": "text",
    "id": "nN7jD2OInANW"
   },
   "source": [
    "With each loaded image, we also specify the expected output. For this, we use a one-hot encoding, creating an array of zeros represnting each class, and setting the index of the expected class number to 1"
   ]
  },
  {
   "cell_type": "markdown",
   "metadata": {
    "colab_type": "text",
    "id": "FOFnoGGJnANW"
   },
   "source": [
    "For example, if we have three classes, and we expect an order of: [red neuron, green neuron, yellow neuron] \n",
    "We initialize an array to [0, 0, 0] and if we loaded a yellow light, we change the last value to 1: [0, 0, 1] \n",
    "Finally, we shuffle our dataset. (It's generally useful to seed our random generator with 0 at the start of the program)"
   ]
  },
  {
   "cell_type": "code",
   "execution_count": 10,
   "metadata": {
    "colab": {},
    "colab_type": "code",
    "collapsed": true,
    "id": "dNi7iBN7nANX"
   },
   "outputs": [],
   "source": [
    "\n",
    "saver = tf.train.Saver()\n",
    "time_start = time.time()\n",
    "\n",
    "v_loss = least_loss = 99999999\n",
    "\n",
    "# Load data\n",
    "\n",
    "full_set = []\n",
    "\n",
    "for im_type in image_types:\n",
    "    for ex in glob.glob(os.path.join(base_image_path, im_type, \"*\")):\n",
    "        im = cv2.imread(ex)\n",
    "        if not im is None:\n",
    "            im = cv2.resize(im, (32, 32))\n",
    "\n",
    "            # Create an array representing our classes and set it\n",
    "            one_hot_array = [0] * len(image_types)\n",
    "            one_hot_array[image_types.index(im_type)] = 1\n",
    "            assert(im.shape == (32, 32, 3))\n",
    "\n",
    "            full_set.append((im, one_hot_array, ex))\n",
    "\n",
    "random.shuffle(full_set)"
   ]
  },
  {
   "cell_type": "markdown",
   "metadata": {
    "colab_type": "text",
    "id": "vQ8DGY2Ux9Me"
   },
   "source": [
    "\n",
    "Using our train_test_split_ratio we create two lists of examples: testing and training."
   ]
  },
  {
   "cell_type": "code",
   "execution_count": 17,
   "metadata": {
    "colab": {
     "base_uri": "https://localhost:8080/",
     "height": 215
    },
    "colab_type": "code",
    "id": "b07MSRRLx94v",
    "outputId": "13dd4368-4917-4452-9c8b-6fec5d8664a8"
   },
   "outputs": [],
   "source": [
    "# We split our data into a training and test set here\n",
    "split_index = int(math.floor(len(full_set) * train_test_split_ratio))\n",
    "train_set = full_set[: split_index]\n",
    "test_set = full_set[split_index :]\n",
    "\n",
    "\n",
    "# We ensure that our training and test sets are a multiple of batch size\n",
    "train_set_offset = len(train_set) % batch_size\n",
    "test_set_offset = len(test_set) % batch_size\n",
    "\n",
    "train_set = train_set[:len(train_set)-train_set_offset]\n",
    "test_set = test_set[: len(test_set) - test_set_offset]\n",
    "\n",
    "train_x, train_y, train_z = zip(*train_set)\n",
    "test_x, test_y, test_z = zip(*test_set)"
   ]
  },
  {
   "cell_type": "markdown",
   "metadata": {
    "colab": {},
    "colab_type": "code",
    "id": "rl9UQyWRNlRp"
   },
   "source": [
    "We split our training set into batches, which we train on in order."
   ]
  },
  {
   "cell_type": "markdown",
   "metadata": {},
   "source": [
    "We then use our entire datset to calculate training and validation loss. These are the values we want to minimize, but it's important to pay attention to the interaction between them."
   ]
  },
  {
   "cell_type": "markdown",
   "metadata": {},
   "source": [
    "We save our model if the current model has the lowest validation seen in this training run."
   ]
  },
  {
   "cell_type": "code",
   "execution_count": 21,
   "metadata": {},
   "outputs": [
    {
     "name": "stdout",
     "output_type": "stream",
     "text": [
      "Starting Training .....[1312 training examples]\n",
      "Epoch     1: loss:    0.8046084046, val. loss:    0.8749706745\n",
      "Epoch     2: loss:    0.7858324051, val. loss:    0.8509359360\n",
      "Epoch     3: loss:    0.7837803364, val. loss:    0.8453842402, saving new best model to model.ckpt\n",
      "Epoch     4: loss:    0.7622806430, val. loss:    0.8172880411, saving new best model to model.ckpt\n",
      "Epoch     5: loss:    0.7429823279, val. loss:    0.7941063643, saving new best model to model.ckpt\n",
      "Epoch     6: loss:    0.7565836310, val. loss:    0.8168160319\n",
      "Epoch     7: loss:    0.7954609394, val. loss:    0.8608635664\n",
      "Epoch     8: loss:    0.7812564373, val. loss:    0.8534138799\n",
      "Epoch     9: loss:    0.7192848921, val. loss:    0.7586111426, saving new best model to model.ckpt\n",
      "Epoch    10: loss:    0.8462377191, val. loss:    0.8682108521\n",
      "Epoch    11: loss:    0.7901237011, val. loss:    0.8258734941\n",
      "Epoch    12: loss:    0.7785878181, val. loss:    0.8207647800\n",
      "Epoch    13: loss:    0.7759136558, val. loss:    0.8212572336\n",
      "Epoch    14: loss:    0.7748959064, val. loss:    0.8221955895\n",
      "Epoch    15: loss:    0.7744569778, val. loss:    0.8230406046\n",
      "Epoch    16: loss:    0.7742609978, val. loss:    0.8237047195\n",
      "Epoch    17: loss:    0.7741686702, val. loss:    0.8241997957\n",
      "Epoch    18: loss:    0.7741208076, val. loss:    0.8245580792\n",
      "Epoch    19: loss:    0.7741019130, val. loss:    0.8248133659\n",
      "Epoch    20: loss:    0.7740914226, val. loss:    0.8249920607\n",
      "Epoch    21: loss:    0.7740852237, val. loss:    0.8251161575\n",
      "Epoch    22: loss:    0.7740854621, val. loss:    0.8252010942\n",
      "Epoch    23: loss:    0.7740851045, val. loss:    0.8252589107\n",
      "Epoch    24: loss:    0.7740871906, val. loss:    0.8252977133\n",
      "Epoch    25: loss:    0.7740879655, val. loss:    0.8253234625\n"
     ]
    }
   ],
   "source": [
    "print(\"Starting Training .....[{} training examples]\".format(len(train_x)))\n",
    "\n",
    "v_loss = 9999999\n",
    "train_loss = []\n",
    "val_loss = []\n",
    "\n",
    "for i in range(0, max_epochs):\n",
    "    \n",
    "    # Iterate over our training set:\n",
    "    for tt in range(0, (len(train_x)//batch_size)):\n",
    "        start_batch = batch_size * tt\n",
    "        end_batch = batch_size * (tt+1)\n",
    "        train_step.run(feed_dict={x:train_x[start_batch:end_batch], y_:train_y[start_batch:end_batch]})\n",
    "         \n",
    "        ex_seen = \"Current epoch, examples seen {:20} / {} \\r\".format(tt*batch_size, len(train_x))\n",
    "        \n",
    "        sys.stdout.write(ex_seen.format(tt*batch_size))\n",
    "        sys.stdout.flush()\n",
    "    ex_seen = \"Current epoch, examples seen: {:20} / {} \\r\".format((tt + 1) * batch_size, len(train_x))\n",
    "    sys.stdout.write(ex_seen.format(tt * batch_size))\n",
    "    sys.stdout.flush()\n",
    "\n",
    "    t_loss = loss.eval(feed_dict={x: train_x, y_: train_y})\n",
    "    v_loss = loss.eval(feed_dict={x: test_x, y_: test_y})\n",
    "    \n",
    "    train_loss.append(t_loss)\n",
    "    val_loss.append(v_loss)\n",
    "\n",
    "    sys.stdout.write(\"Epoch {:5}: loss: {:15.10f}, val. loss: {:15.10f}\".format(i + 1, t_loss, v_loss))\n",
    "\n",
    "    if v_loss < least_loss:\n",
    "        sys.stdout.write(\", saving new best model to {}\".format(checkpoint_name))\n",
    "        least_loss = v_loss\n",
    "        filename = saver.save(sess, \"./model.ckpt\")\n",
    "\n",
    "    sys.stdout.write(\"\\n\")"
   ]
  },
  {
   "cell_type": "code",
   "execution_count": 23,
   "metadata": {},
   "outputs": [
    {
     "data": {
      "text/plain": [
       "<Figure size 432x288 with 0 Axes>"
      ]
     },
     "metadata": {},
     "output_type": "display_data"
    },
    {
     "data": {
      "image/png": "[encoded data removed]",
      "text/plain": [
       "<Figure size 432x288 with 1 Axes>"
      ]
     },
     "metadata": {},
     "output_type": "display_data"
    }
   ],
   "source": [
    "plt.figure()\n",
    "plt.xticks(np.arange(0, len(train_loss), 1.0))\n",
    "plt.xlabel(\"Epochs\")\n",
    "plt.ylabel(\"Loss\")\n",
    "train_line = plt.plot(range(0,len(train_loss)), train_loss, 'r', label=\"Train Loss\")\n",
    "val_line = plt.plot(range(0, len(val_loss)), val_loss, 'g', label=\"Validation Loss\")\n",
    "plt.legend()\n",
    "plt.show()"
   ]
  },
  {
   "cell_type": "markdown",
   "metadata": {},
   "source": [
    "### Let's print the examples from out test set that were wrong"
   ]
  },
  {
   "cell_type": "code",
   "execution_count": null,
   "metadata": {
    "collapsed": true
   },
   "outputs": [],
   "source": []
  },
  {
   "cell_type": "code",
   "execution_count": null,
   "metadata": {
    "collapsed": true
   },
   "outputs": [],
   "source": []
  },
  {
   "cell_type": "code",
   "execution_count": null,
   "metadata": {
    "collapsed": true
   },
   "outputs": [],
   "source": []
  },
  {
   "cell_type": "code",
   "execution_count": null,
   "metadata": {
    "collapsed": true
   },
   "outputs": [],
   "source": []
  },
  {
   "cell_type": "code",
   "execution_count": null,
   "metadata": {
    "collapsed": true
   },
   "outputs": [],
   "source": []
  },
  {
   "cell_type": "code",
   "execution_count": null,
   "metadata": {
    "collapsed": true
   },
   "outputs": [],
   "source": []
  },
  {
   "cell_type": "code",
   "execution_count": null,
   "metadata": {
    "collapsed": true
   },
   "outputs": [],
   "source": []
  },
  {
   "cell_type": "code",
   "execution_count": null,
   "metadata": {
    "collapsed": true
   },
   "outputs": [],
   "source": []
  },
  {
   "cell_type": "code",
   "execution_count": 0,
   "metadata": {
    "colab": {},
    "colab_type": "code",
    "collapsed": true,
    "id": "VFPJFYb8NSxT"
   },
   "outputs": [],
   "source": []
  },
  {
   "cell_type": "code",
   "execution_count": 0,
   "metadata": {
    "colab": {},
    "colab_type": "code",
    "collapsed": true,
    "id": "M9Rhf7pKNCFo"
   },
   "outputs": [],
   "source": []
  },
  {
   "cell_type": "code",
   "execution_count": 0,
   "metadata": {
    "colab": {},
    "colab_type": "code",
    "collapsed": true,
    "id": "uGV9yEF-NOR8"
   },
   "outputs": [],
   "source": []
  },
  {
   "cell_type": "code",
   "execution_count": 0,
   "metadata": {
    "colab": {},
    "colab_type": "code",
    "collapsed": true,
    "id": "tgxirpgvNFJh"
   },
   "outputs": [],
   "source": []
  }
 ],
 "metadata": {
  "accelerator": "GPU",
  "colab": {
   "name": "Traffic Light Classification.ipynb",
   "provenance": [],
   "version": "0.3.2"
  },
  "kernelspec": {
   "display_name": "Python 3",
   "language": "python",
   "name": "python3"
  },
  "language_info": {
   "codemirror_mode": {
    "name": "ipython",
    "version": 3
   },
   "file_extension": ".py",
   "mimetype": "text/x-python",
   "name": "python",
   "nbconvert_exporter": "python",
   "pygments_lexer": "ipython3",
   "version": "3.5.6"
  }
 },
 "nbformat": 4,
 "nbformat_minor": 1
}
